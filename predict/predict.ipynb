{
 "cells": [
  {
   "cell_type": "markdown",
   "id": "a157972b",
   "metadata": {},
   "source": [
    "Алгоритм такой: выбросим 10% худших значений и 10% лучших значений (в качестве значения будем брать расстояние до нуля). Посмотрим на разброс среди оставшихся. Если он маленький (меньше 0.5), то телефон на столе, иначе он в руке. \n",
    "\n",
    "Но оставшихся должно быть достаточно, чтобы сделать вывод. Так что скажем: если всего значений меньше 50, то мы не знаем ответ. В моём случае приходило 100 измерений в секунду, так что такой алгоритм умеет определять положение телефона по 0.5 секундам данных."
   ]
  },
  {
   "cell_type": "code",
   "execution_count": 22,
   "id": "563152a7",
   "metadata": {},
   "outputs": [],
   "source": [
    "from enum import Enum\n",
    "import numpy as np"
   ]
  },
  {
   "cell_type": "code",
   "execution_count": 27,
   "id": "78532b3b",
   "metadata": {},
   "outputs": [],
   "source": [
    "class PhoneState(Enum):\n",
    "    Table = 0\n",
    "    Hand = 1\n",
    "    Unknown = 2"
   ]
  },
  {
   "cell_type": "code",
   "execution_count": 28,
   "id": "39801982",
   "metadata": {},
   "outputs": [],
   "source": [
    "def load_data(file):\n",
    "    data = np.loadtxt(file, delimiter=',', encoding='utf-8-sig')\n",
    "    lengths = [np.linalg.norm(v) for v in data]\n",
    "    return np.sort(lengths)"
   ]
  },
  {
   "cell_type": "code",
   "execution_count": 29,
   "id": "930104a1",
   "metadata": {},
   "outputs": [],
   "source": [
    "def predict(file):\n",
    "    percent = 10\n",
    "    data = load_data(file)\n",
    "    if len(data) < 50:\n",
    "        return PhoneState.Unknown\n",
    "    to_remove = data.shape[0] // 10\n",
    "    cleared = data[to_remove:-to_remove]\n",
    "    diff = np.max(cleared) - np.min(cleared)\n",
    "    return PhoneState.Table if diff < 0.1 else PhoneState.Hand"
   ]
  },
  {
   "cell_type": "code",
   "execution_count": 30,
   "id": "9ac7905d",
   "metadata": {},
   "outputs": [
    {
     "data": {
      "text/plain": [
       "<PhoneState.Hand: 1>"
      ]
     },
     "execution_count": 30,
     "metadata": {},
     "output_type": "execute_result"
    }
   ],
   "source": [
    "predict('../data/hand.csv')"
   ]
  },
  {
   "cell_type": "code",
   "execution_count": 31,
   "id": "5a70afc2",
   "metadata": {},
   "outputs": [
    {
     "data": {
      "text/plain": [
       "<PhoneState.Table: 0>"
      ]
     },
     "execution_count": 31,
     "metadata": {},
     "output_type": "execute_result"
    }
   ],
   "source": [
    "predict('../data/table.csv')"
   ]
  }
 ],
 "metadata": {
  "kernelspec": {
   "display_name": "Python 3",
   "language": "python",
   "name": "python3"
  },
  "language_info": {
   "codemirror_mode": {
    "name": "ipython",
    "version": 3
   },
   "file_extension": ".py",
   "mimetype": "text/x-python",
   "name": "python",
   "nbconvert_exporter": "python",
   "pygments_lexer": "ipython3",
   "version": "3.7.5"
  }
 },
 "nbformat": 4,
 "nbformat_minor": 5
}
